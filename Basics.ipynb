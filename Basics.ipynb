{
 "cells": [
  {
   "cell_type": "code",
   "execution_count": 21,
   "metadata": {
    "collapsed": false
   },
   "outputs": [
    {
     "data": {
      "text/plain": [
       "(['',\n",
       "  'year',\n",
       "  'month',\n",
       "  'intent',\n",
       "  'police',\n",
       "  'sex',\n",
       "  'age',\n",
       "  'race',\n",
       "  'hispanic',\n",
       "  'place',\n",
       "  'education'],\n",
       " [['1',\n",
       "   '2012',\n",
       "   '01',\n",
       "   'Suicide',\n",
       "   '0',\n",
       "   'M',\n",
       "   '34',\n",
       "   'Asian/Pacific Islander',\n",
       "   '100',\n",
       "   'Home',\n",
       "   '4'],\n",
       "  ['2',\n",
       "   '2012',\n",
       "   '01',\n",
       "   'Suicide',\n",
       "   '0',\n",
       "   'F',\n",
       "   '21',\n",
       "   'White',\n",
       "   '100',\n",
       "   'Street',\n",
       "   '3'],\n",
       "  ['3',\n",
       "   '2012',\n",
       "   '01',\n",
       "   'Suicide',\n",
       "   '0',\n",
       "   'M',\n",
       "   '60',\n",
       "   'White',\n",
       "   '100',\n",
       "   'Other specified',\n",
       "   '4'],\n",
       "  ['4', '2012', '02', 'Suicide', '0', 'M', '64', 'White', '100', 'Home', '4'],\n",
       "  ['5',\n",
       "   '2012',\n",
       "   '02',\n",
       "   'Suicide',\n",
       "   '0',\n",
       "   'M',\n",
       "   '31',\n",
       "   'White',\n",
       "   '100',\n",
       "   'Other specified',\n",
       "   '2']])"
      ]
     },
     "execution_count": 21,
     "metadata": {},
     "output_type": "execute_result"
    }
   ],
   "source": [
    "import csv\n",
    "f = open(\"guns.csv\") # Create File handler csv\n",
    "\n",
    "# Use the csv.reader() and list() methods to read the file into a list\n",
    "guns = list(csv.reader(f))\n",
    "\n",
    "# Select  1st 5 rows in guns, except the header\n",
    "headers=guns[0]\n",
    "guns_data = guns[1:]\n",
    "headers, guns_data[0:5]"
   ]
  },
  {
   "cell_type": "code",
   "execution_count": 22,
   "metadata": {
    "collapsed": false
   },
   "outputs": [
    {
     "data": {
      "text/plain": [
       "{'2012': 33563, '2013': 33636, '2014': 33599}"
      ]
     },
     "execution_count": 22,
     "metadata": {},
     "output_type": "execute_result"
    }
   ],
   "source": [
    "year_counts = {}\n",
    "\n",
    "for row in guns_data:\n",
    "    row_year = row[1]\n",
    "    if row_year in year_counts:\n",
    "        year_counts[row_year] = year_counts[row_year]+1\n",
    "    else:\n",
    "        year_counts[row_year] = 1   \n",
    "year_counts"
   ]
  },
  {
   "cell_type": "code",
   "execution_count": 23,
   "metadata": {
    "collapsed": false
   },
   "outputs": [
    {
     "data": {
      "text/plain": [
       "{datetime.datetime(2012, 1, 1, 0, 0): 2758,\n",
       " datetime.datetime(2012, 2, 1, 0, 0): 2357,\n",
       " datetime.datetime(2012, 3, 1, 0, 0): 2743,\n",
       " datetime.datetime(2012, 4, 1, 0, 0): 2795,\n",
       " datetime.datetime(2012, 5, 1, 0, 0): 2999,\n",
       " datetime.datetime(2012, 6, 1, 0, 0): 2826,\n",
       " datetime.datetime(2012, 7, 1, 0, 0): 3026,\n",
       " datetime.datetime(2012, 8, 1, 0, 0): 2954,\n",
       " datetime.datetime(2012, 9, 1, 0, 0): 2852,\n",
       " datetime.datetime(2012, 10, 1, 0, 0): 2733,\n",
       " datetime.datetime(2012, 11, 1, 0, 0): 2729,\n",
       " datetime.datetime(2012, 12, 1, 0, 0): 2791,\n",
       " datetime.datetime(2013, 1, 1, 0, 0): 2864,\n",
       " datetime.datetime(2013, 2, 1, 0, 0): 2375,\n",
       " datetime.datetime(2013, 3, 1, 0, 0): 2862,\n",
       " datetime.datetime(2013, 4, 1, 0, 0): 2798,\n",
       " datetime.datetime(2013, 5, 1, 0, 0): 2806,\n",
       " datetime.datetime(2013, 6, 1, 0, 0): 2920,\n",
       " datetime.datetime(2013, 7, 1, 0, 0): 3079,\n",
       " datetime.datetime(2013, 8, 1, 0, 0): 2859,\n",
       " datetime.datetime(2013, 9, 1, 0, 0): 2742,\n",
       " datetime.datetime(2013, 10, 1, 0, 0): 2808,\n",
       " datetime.datetime(2013, 11, 1, 0, 0): 2758,\n",
       " datetime.datetime(2013, 12, 1, 0, 0): 2765,\n",
       " datetime.datetime(2014, 1, 1, 0, 0): 2651,\n",
       " datetime.datetime(2014, 2, 1, 0, 0): 2361,\n",
       " datetime.datetime(2014, 3, 1, 0, 0): 2684,\n",
       " datetime.datetime(2014, 4, 1, 0, 0): 2862,\n",
       " datetime.datetime(2014, 5, 1, 0, 0): 2864,\n",
       " datetime.datetime(2014, 6, 1, 0, 0): 2931,\n",
       " datetime.datetime(2014, 7, 1, 0, 0): 2884,\n",
       " datetime.datetime(2014, 8, 1, 0, 0): 2970,\n",
       " datetime.datetime(2014, 9, 1, 0, 0): 2914,\n",
       " datetime.datetime(2014, 10, 1, 0, 0): 2865,\n",
       " datetime.datetime(2014, 11, 1, 0, 0): 2756,\n",
       " datetime.datetime(2014, 12, 1, 0, 0): 2857}"
      ]
     },
     "execution_count": 23,
     "metadata": {},
     "output_type": "execute_result"
    }
   ],
   "source": [
    "import datetime\n",
    "date_counts = {}\n",
    "\n",
    "for row in guns_data:\n",
    "    dates = datetime.datetime(year=int(row[1]), month=int(row[2]), day=1)\n",
    "    if dates in date_counts:\n",
    "        date_counts[dates] = date_counts[dates]+1\n",
    "    else:\n",
    "        date_counts[dates] = 1\n",
    "        \n",
    "date_counts"
   ]
  },
  {
   "cell_type": "code",
   "execution_count": 24,
   "metadata": {
    "collapsed": false
   },
   "outputs": [
    {
     "data": {
      "text/plain": [
       "({'F': 14449, 'M': 86349}, {'F': 14449, 'M': 86349})"
      ]
     },
     "execution_count": 24,
     "metadata": {},
     "output_type": "execute_result"
    }
   ],
   "source": [
    "sex_counts = {}\n",
    "\n",
    "for row in guns_data:\n",
    "    row_sex = row[5]\n",
    "    if row_sex in sex_counts:\n",
    "        sex_counts[row_sex] = sex_counts[row_sex]+1\n",
    "    else:\n",
    "        sex_counts[row_sex] = 1   \n",
    "sex_counts\n",
    "\n",
    "### OR:\n",
    "sex_list = [row[5] for row in guns_data]\n",
    "sex_counts2 = {}\n",
    "for sex in sex_list:\n",
    "    if sex in sex_counts2:\n",
    "        sex_counts2[sex] += 1\n",
    "    else:\n",
    "        sex_counts2[sex] = 1\n",
    "sex_counts,sex_counts2         "
   ]
  },
  {
   "cell_type": "code",
   "execution_count": 25,
   "metadata": {
    "collapsed": false
   },
   "outputs": [
    {
     "data": {
      "text/plain": [
       "({'0': 33,\n",
       "  '1': 38,\n",
       "  '10': 53,\n",
       "  '100': 1,\n",
       "  '101': 2,\n",
       "  '102': 2,\n",
       "  '107': 1,\n",
       "  '11': 61,\n",
       "  '12': 117,\n",
       "  '13': 229,\n",
       "  '14': 364,\n",
       "  '15': 561,\n",
       "  '16': 864,\n",
       "  '17': 1185,\n",
       "  '18': 1753,\n",
       "  '19': 2065,\n",
       "  '2': 50,\n",
       "  '20': 2219,\n",
       "  '21': 2504,\n",
       "  '22': 2712,\n",
       "  '23': 2472,\n",
       "  '24': 2437,\n",
       "  '25': 2230,\n",
       "  '26': 2231,\n",
       "  '27': 2070,\n",
       "  '28': 1986,\n",
       "  '29': 1955,\n",
       "  '3': 66,\n",
       "  '30': 1869,\n",
       "  '31': 1833,\n",
       "  '32': 1824,\n",
       "  '33': 1700,\n",
       "  '34': 1699,\n",
       "  '35': 1631,\n",
       "  '36': 1512,\n",
       "  '37': 1500,\n",
       "  '38': 1491,\n",
       "  '39': 1389,\n",
       "  '4': 54,\n",
       "  '40': 1414,\n",
       "  '41': 1485,\n",
       "  '42': 1492,\n",
       "  '43': 1527,\n",
       "  '44': 1449,\n",
       "  '45': 1372,\n",
       "  '46': 1437,\n",
       "  '47': 1532,\n",
       "  '48': 1621,\n",
       "  '49': 1669,\n",
       "  '5': 43,\n",
       "  '50': 1674,\n",
       "  '51': 1755,\n",
       "  '52': 1715,\n",
       "  '53': 1708,\n",
       "  '54': 1684,\n",
       "  '55': 1596,\n",
       "  '56': 1625,\n",
       "  '57': 1472,\n",
       "  '58': 1510,\n",
       "  '59': 1430,\n",
       "  '6': 50,\n",
       "  '60': 1361,\n",
       "  '61': 1306,\n",
       "  '62': 1099,\n",
       "  '63': 1041,\n",
       "  '64': 1126,\n",
       "  '65': 1039,\n",
       "  '66': 998,\n",
       "  '67': 865,\n",
       "  '68': 868,\n",
       "  '69': 879,\n",
       "  '7': 43,\n",
       "  '70': 883,\n",
       "  '71': 791,\n",
       "  '72': 736,\n",
       "  '73': 737,\n",
       "  '74': 671,\n",
       "  '75': 676,\n",
       "  '76': 582,\n",
       "  '77': 575,\n",
       "  '78': 598,\n",
       "  '79': 573,\n",
       "  '8': 32,\n",
       "  '80': 546,\n",
       "  '81': 563,\n",
       "  '82': 520,\n",
       "  '83': 552,\n",
       "  '84': 490,\n",
       "  '85': 440,\n",
       "  '86': 407,\n",
       "  '87': 312,\n",
       "  '88': 340,\n",
       "  '89': 245,\n",
       "  '9': 47,\n",
       "  '90': 208,\n",
       "  '91': 176,\n",
       "  '92': 128,\n",
       "  '93': 103,\n",
       "  '94': 64,\n",
       "  '95': 55,\n",
       "  '96': 40,\n",
       "  '97': 20,\n",
       "  '98': 16,\n",
       "  '99': 6,\n",
       "  'NA': 18},\n",
       " {'0': 33,\n",
       "  '1': 38,\n",
       "  '10': 53,\n",
       "  '100': 1,\n",
       "  '101': 2,\n",
       "  '102': 2,\n",
       "  '107': 1,\n",
       "  '11': 61,\n",
       "  '12': 117,\n",
       "  '13': 229,\n",
       "  '14': 364,\n",
       "  '15': 561,\n",
       "  '16': 864,\n",
       "  '17': 1185,\n",
       "  '18': 1753,\n",
       "  '19': 2065,\n",
       "  '2': 50,\n",
       "  '20': 2219,\n",
       "  '21': 2504,\n",
       "  '22': 2712,\n",
       "  '23': 2472,\n",
       "  '24': 2437,\n",
       "  '25': 2230,\n",
       "  '26': 2231,\n",
       "  '27': 2070,\n",
       "  '28': 1986,\n",
       "  '29': 1955,\n",
       "  '3': 66,\n",
       "  '30': 1869,\n",
       "  '31': 1833,\n",
       "  '32': 1824,\n",
       "  '33': 1700,\n",
       "  '34': 1699,\n",
       "  '35': 1631,\n",
       "  '36': 1512,\n",
       "  '37': 1500,\n",
       "  '38': 1491,\n",
       "  '39': 1389,\n",
       "  '4': 54,\n",
       "  '40': 1414,\n",
       "  '41': 1485,\n",
       "  '42': 1492,\n",
       "  '43': 1527,\n",
       "  '44': 1449,\n",
       "  '45': 1372,\n",
       "  '46': 1437,\n",
       "  '47': 1532,\n",
       "  '48': 1621,\n",
       "  '49': 1669,\n",
       "  '5': 43,\n",
       "  '50': 1674,\n",
       "  '51': 1755,\n",
       "  '52': 1715,\n",
       "  '53': 1708,\n",
       "  '54': 1684,\n",
       "  '55': 1596,\n",
       "  '56': 1625,\n",
       "  '57': 1472,\n",
       "  '58': 1510,\n",
       "  '59': 1430,\n",
       "  '6': 50,\n",
       "  '60': 1361,\n",
       "  '61': 1306,\n",
       "  '62': 1099,\n",
       "  '63': 1041,\n",
       "  '64': 1126,\n",
       "  '65': 1039,\n",
       "  '66': 998,\n",
       "  '67': 865,\n",
       "  '68': 868,\n",
       "  '69': 879,\n",
       "  '7': 43,\n",
       "  '70': 883,\n",
       "  '71': 791,\n",
       "  '72': 736,\n",
       "  '73': 737,\n",
       "  '74': 671,\n",
       "  '75': 676,\n",
       "  '76': 582,\n",
       "  '77': 575,\n",
       "  '78': 598,\n",
       "  '79': 573,\n",
       "  '8': 32,\n",
       "  '80': 546,\n",
       "  '81': 563,\n",
       "  '82': 520,\n",
       "  '83': 552,\n",
       "  '84': 490,\n",
       "  '85': 440,\n",
       "  '86': 407,\n",
       "  '87': 312,\n",
       "  '88': 340,\n",
       "  '89': 245,\n",
       "  '9': 47,\n",
       "  '90': 208,\n",
       "  '91': 176,\n",
       "  '92': 128,\n",
       "  '93': 103,\n",
       "  '94': 64,\n",
       "  '95': 55,\n",
       "  '96': 40,\n",
       "  '97': 20,\n",
       "  '98': 16,\n",
       "  '99': 6,\n",
       "  'NA': 18})"
      ]
     },
     "execution_count": 25,
     "metadata": {},
     "output_type": "execute_result"
    }
   ],
   "source": [
    "age_counts = {}\n",
    "\n",
    "for row in guns_data:\n",
    "    row_age = row[6]\n",
    "    if row_age in age_counts:\n",
    "        age_counts[row_age] = age_counts[row_age]+1\n",
    "    else:\n",
    "        age_counts[row_age] = 1   \n",
    "# age_counts\n",
    "\n",
    "### OR :\n",
    "age_list = [row[6] for row in guns_data]\n",
    "age_counts2 = {}\n",
    "for age in age_list:\n",
    "    if age in age_counts2:\n",
    "        age_counts2[age] += 1\n",
    "    else:\n",
    "        age_counts2[age] = 1\n",
    "age_counts,age_counts2       "
   ]
  },
  {
   "cell_type": "code",
   "execution_count": 26,
   "metadata": {
    "collapsed": false
   },
   "outputs": [
    {
     "data": {
      "text/plain": [
       "{'Asian/Pacific Islander': 1326,\n",
       " 'Black': 23296,\n",
       " 'Hispanic': 9022,\n",
       " 'Native American/Native Alaskan': 917,\n",
       " 'White': 66237}"
      ]
     },
     "execution_count": 26,
     "metadata": {},
     "output_type": "execute_result"
    }
   ],
   "source": [
    "race_counts = {}\n",
    "\n",
    "for row in guns_data:\n",
    "    row_race = row[7]\n",
    "    if row_race in race_counts:\n",
    "        race_counts[row_race] = race_counts[row_race]+1\n",
    "    else:\n",
    "        race_counts[row_race] = 1   \n",
    "race_counts"
   ]
  },
  {
   "cell_type": "markdown",
   "metadata": {},
   "source": [
    "highest gun related deaths among whites, aged 19-27 , and males"
   ]
  },
  {
   "cell_type": "code",
   "execution_count": 27,
   "metadata": {
    "collapsed": false
   },
   "outputs": [
    {
     "data": {
      "text/plain": [
       "(['Id',\n",
       "  'Year',\n",
       "  'Id',\n",
       "  'Sex',\n",
       "  'Id',\n",
       "  'Hispanic Origin',\n",
       "  'Id',\n",
       "  'Id2',\n",
       "  'Geography',\n",
       "  'Total',\n",
       "  'Race Alone - White',\n",
       "  'Race Alone - Hispanic',\n",
       "  'Race Alone - Black or African American',\n",
       "  'Race Alone - American Indian and Alaska Native',\n",
       "  'Race Alone - Asian',\n",
       "  'Race Alone - Native Hawaiian and Other Pacific Islander',\n",
       "  'Two or More Races'],\n",
       " [['cen42010',\n",
       "   'April 1, 2010 Census',\n",
       "   'totsex',\n",
       "   'Both Sexes',\n",
       "   'tothisp',\n",
       "   'Total',\n",
       "   '0100000US',\n",
       "   '',\n",
       "   'United States',\n",
       "   '308745538',\n",
       "   '197318956',\n",
       "   '44618105',\n",
       "   '40250635',\n",
       "   '3739506',\n",
       "   '15159516',\n",
       "   '674625',\n",
       "   '6984195']])"
      ]
     },
     "execution_count": 27,
     "metadata": {},
     "output_type": "execute_result"
    }
   ],
   "source": [
    "import csv\n",
    "c = open(\"census.csv\", \"r\") # Create File handler csv\n",
    "\n",
    "# Use the csv.reader() and list() methods to read the file into a list\n",
    "census = list(csv.reader(c))\n",
    "\n",
    "# Select  1st 5 rows in guns, except the header\n",
    "headers2=census[0]\n",
    "census_data = census[1:]\n",
    "headers2, census_data"
   ]
  },
  {
   "cell_type": "code",
   "execution_count": 28,
   "metadata": {
    "collapsed": false
   },
   "outputs": [
    {
     "data": {
      "text/plain": [
       "{'Asian/Pacific Islander': '15159516674625151595166984195',\n",
       " 'Black': '40250635',\n",
       " 'Hispanic': '44618105',\n",
       " 'Native American/Native Alaskan': '3739506',\n",
       " 'White': '197318956'}"
      ]
     },
     "execution_count": 28,
     "metadata": {},
     "output_type": "execute_result"
    }
   ],
   "source": [
    "mapping = {\n",
    "    \"Black\" : census[1][12],\n",
    "    \"Hispanic\" : census[1][11],\n",
    "    \"Native American/Native Alaskan\" : census[1][13],\n",
    "    \"White\" : census[1][10],\n",
    "    \"Asian/Pacific Islander\": census[1][14] + census[1][15]+census[1][14] + census[1][16]   \n",
    "          }\n",
    "mapping"
   ]
  },
  {
   "cell_type": "code",
   "execution_count": 29,
   "metadata": {
    "collapsed": false
   },
   "outputs": [
    {
     "data": {
      "text/plain": [
       "{'Asian/Pacific Islander': 8.746980714890028e-21,\n",
       " 'Black': 57.8773477735196,\n",
       " 'Hispanic': 20.220491210910907,\n",
       " 'Native American/Native Alaskan': 24.521955573811088,\n",
       " 'White': 33.56849303419181}"
      ]
     },
     "execution_count": 29,
     "metadata": {},
     "output_type": "execute_result"
    }
   ],
   "source": [
    "race_per_hundredk ={}\n",
    "for race, count in race_counts.items():\n",
    "    race_per_hundredk[race] = (count/int(mapping[race]))*100000\n",
    "race_per_hundredk    "
   ]
  },
  {
   "cell_type": "code",
   "execution_count": 30,
   "metadata": {
    "collapsed": false
   },
   "outputs": [
    {
     "data": {
      "text/plain": [
       "{'Accidental': 1639,\n",
       " 'Homicide': 35176,\n",
       " 'NA': 1,\n",
       " 'Suicide': 63175,\n",
       " 'Undetermined': 807}"
      ]
     },
     "execution_count": 30,
     "metadata": {},
     "output_type": "execute_result"
    }
   ],
   "source": [
    "intents = {}\n",
    "\n",
    "for row in guns_data:\n",
    "    row_intent = row[3]\n",
    "    if row_intent in intents:\n",
    "        intents[row_intent] = intents[row_intent]+1\n",
    "    else:\n",
    "        intents[row_intent] = 1   \n",
    "intents"
   ]
  },
  {
   "cell_type": "code",
   "execution_count": 31,
   "metadata": {
    "collapsed": false
   },
   "outputs": [
    {
     "data": {
      "text/plain": [
       "{'Asian/Pacific Islander': 559,\n",
       " 'Black': 19510,\n",
       " 'Hispanic': 5634,\n",
       " 'Native American/Native Alaskan': 326,\n",
       " 'White': 9147}"
      ]
     },
     "execution_count": 31,
     "metadata": {},
     "output_type": "execute_result"
    }
   ],
   "source": [
    "# re-Extract the intent and race columns using a list comprehension\n",
    "intents = [row[3] for row in guns_data]\n",
    "races = [row[7] for row in guns_data]\n",
    "\n",
    "homicide_race_counts = {}\n",
    "for i, race in enumerate(races):\n",
    "    if intents[i] == \"Homicide\":\n",
    "        if race in homicide_race_counts:\n",
    "            homicide_race_counts[race] += 1\n",
    "        else:\n",
    "            homicide_race_counts[race] = 1\n",
    "homicide_race_counts"
   ]
  },
  {
   "cell_type": "markdown",
   "metadata": {},
   "source": [
    "Homicides numbers is highest among blacks, followed by and doubling the number among whites. Numbers alone are not sufficiient to analyze. We need the proportion of each race in the US to fully compare the numbers above. Thus we want want to get a rate of gun deaths/100000 people of each race. In order to do this, we need to read in data about what percentage of the US population falls into each racial category."
   ]
  },
  {
   "cell_type": "code",
   "execution_count": 32,
   "metadata": {
    "collapsed": false
   },
   "outputs": [
    {
     "data": {
      "text/plain": [
       "{'Asian/Pacific Islander': 3.6874526543163845e-21,\n",
       " 'Black': 48.471284987180944,\n",
       " 'Hispanic': 12.627161104219914,\n",
       " 'Native American/Native Alaskan': 8.717729026240365,\n",
       " 'White': 4.6356417981453335}"
      ]
     },
     "execution_count": 32,
     "metadata": {},
     "output_type": "execute_result"
    }
   ],
   "source": [
    "homicide_race_per_100k = {}\n",
    "for race, count in homicide_race_counts.items():\n",
    "    homicide_race_per_100k[race] = count/int(mapping[race])*100000\n",
    "homicide_race_per_100k"
   ]
  },
  {
   "cell_type": "markdown",
   "metadata": {},
   "source": [
    "Thus we see death by homicides in Blacks is 12x higher than in whites, and 4x higher than hispanics"
   ]
  },
  {
   "cell_type": "code",
   "execution_count": 33,
   "metadata": {
    "collapsed": false,
    "scrolled": true
   },
   "outputs": [
    {
     "name": "stdout",
     "output_type": "stream",
     "text": [
      "01 2829 Low\n",
      "02 2178 Low\n",
      "04 2845 Low\n",
      "11 2919 Low\n",
      "06 3130 High\n",
      "09 2966 Low\n",
      "03 2780 Low\n",
      "07 3269 High\n",
      "12 3191 High\n",
      "08 3125 High\n",
      "10 2968 Low\n",
      "05 2976 Low\n"
     ]
    }
   ],
   "source": [
    "# Analyze link, if any, between month and homicide rate.\n",
    "months = [row[2] for row in guns_data]\n",
    "homicide_month_counts = {}\n",
    "\n",
    "for i, mon in enumerate(months):\n",
    "    if intents[i] == \"Homicide\":\n",
    "        if mon in homicide_month_counts:\n",
    "            homicide_month_counts[mon] += 1\n",
    "        else:\n",
    "            homicide_month_counts[mon] = 1\n",
    "\n",
    "for mon, cnt in homicide_month_counts.items():\n",
    "    print(mon, cnt, \"High\" if cnt>=3000 else \"Low\")\n"
   ]
  },
  {
   "cell_type": "markdown",
   "metadata": {},
   "source": [
    "Highest homicide rates occur in Summer June-August, and in December. Lowest rates are in February. "
   ]
  },
  {
   "cell_type": "code",
   "execution_count": 34,
   "metadata": {
    "collapsed": false
   },
   "outputs": [
    {
     "data": {
      "text/plain": [
       "{}"
      ]
     },
     "execution_count": 34,
     "metadata": {},
     "output_type": "execute_result"
    }
   ],
   "source": [
    "# Analyze link, if any, homicide rate by gender.\n",
    "##sex_count = [row[5] for row in guns_data] ##(alreadt computed above)\n",
    "homicide_sex_counts = {}\n",
    "\n",
    "for i, sex in enumerate(sex_counts):\n",
    "    if intents[i] == \"Homicide\":\n",
    "        if sex in homicide_sex_counts:\n",
    "            homicide_sex_counts[sex] += 1\n",
    "        else:\n",
    "            homicide_sex_counts[sex] = 1\n",
    "\n",
    "homicide_sex_counts"
   ]
  },
  {
   "cell_type": "markdown",
   "metadata": {},
   "source": [
    "men commit homicides almost 6x more than women"
   ]
  },
  {
   "cell_type": "code",
   "execution_count": 35,
   "metadata": {
    "collapsed": false
   },
   "outputs": [
    {
     "data": {
      "text/plain": [
       "{'F': 1, 'M': 1}"
      ]
     },
     "execution_count": 35,
     "metadata": {},
     "output_type": "execute_result"
    }
   ],
   "source": [
    "suicide_sex_counts = {}\n",
    "\n",
    "for i, sex in enumerate(sex_counts):\n",
    "    if intents[i] == \"Suicide\":\n",
    "        if sex in suicide_sex_counts:\n",
    "            suicide_sex_counts[sex] += 1\n",
    "        else:\n",
    "            suicide_sex_counts[sex] = 1\n",
    "\n",
    "suicide_sex_counts"
   ]
  },
  {
   "cell_type": "code",
   "execution_count": 36,
   "metadata": {
    "collapsed": false
   },
   "outputs": [
    {
     "ename": "SyntaxError",
     "evalue": "invalid syntax (<ipython-input-36-bec072c627c3>, line 1)",
     "output_type": "error",
     "traceback": [
      "\u001b[1;36m  File \u001b[1;32m\"<ipython-input-36-bec072c627c3>\"\u001b[1;36m, line \u001b[1;32m1\u001b[0m\n\u001b[1;33m    Men commit Suicides almost 6x more than women\u001b[0m\n\u001b[1;37m             ^\u001b[0m\n\u001b[1;31mSyntaxError\u001b[0m\u001b[1;31m:\u001b[0m invalid syntax\n"
     ]
    }
   ],
   "source": [
    "Men commit Suicides almost 6x more than women"
   ]
  },
  {
   "cell_type": "code",
   "execution_count": null,
   "metadata": {
    "collapsed": false
   },
   "outputs": [],
   "source": [
    "suicide_race_counts = {}\n",
    "for i, race in enumerate(races):\n",
    "    if intents[i] == \"Suicide\":\n",
    "        if race in suicide_race_counts:\n",
    "            suicide_race_counts[race] += 1\n",
    "        else:\n",
    "            suicide_race_counts[race] = 1\n",
    "##print(suicide_race_counts)\n",
    "\n",
    "suicide_race_per_hundredk ={}\n",
    "for race, count in suicide_race_counts.items():\n",
    "    suicide_race_per_hundredk[race] = (count/int(mapping[race]))*100000\n",
    "suicide_race_counts, suicide_race_per_hundredk"
   ]
  },
  {
   "cell_type": "markdown",
   "metadata": {},
   "source": [
    "Suicide is the highest among Whites. Lowest among Asians/pacific"
   ]
  },
  {
   "cell_type": "code",
   "execution_count": null,
   "metadata": {
    "collapsed": false
   },
   "outputs": [],
   "source": [
    "accident_race_counts = {}\n",
    "for i, race in enumerate(races):\n",
    "    if intents[i] == \"Accidental\":\n",
    "        if race in accident_race_counts:\n",
    "            accident_race_counts[race] += 1\n",
    "        else:\n",
    "            accident_race_counts[race] = 1\n",
    "##print(accident_race_counts)\n",
    "\n",
    "accident_race_per_hundredk ={}\n",
    "for race, count in accident_race_counts.items():\n",
    "    accident_race_per_hundredk[race] = (count/int(mapping[race]))*100000\n",
    "accident_race_counts, accident_race_per_hundredk"
   ]
  },
  {
   "cell_type": "markdown",
   "metadata": {},
   "source": [
    "Accidental Gun Shots is the highest among Black people."
   ]
  },
  {
   "cell_type": "code",
   "execution_count": null,
   "metadata": {
    "collapsed": false
   },
   "outputs": [],
   "source": [
    "location_list = [row[9] for row in guns_data]\n",
    "location_counts = {}\n",
    "for i, location in enumerate(location_list):\n",
    "    #if intents[i] == \"Accidental\":\n",
    "        if location+\" \"+intents[i] in location_counts:\n",
    "            location_counts[location+\" \"+intents[i] ] += 1\n",
    "        else:\n",
    "            location_counts[location+\" \"+intents[i] ] = 1\n",
    "location_counts"
   ]
  },
  {
   "cell_type": "markdown",
   "metadata": {},
   "source": [
    "The majority of gun-related deaths happen at home by by suicides \n",
    "followed by homicides.  Next highest are Street Homicides. \n",
    "\n",
    " 'Street Homicide'\t8,867\n",
    " 'Home Homicide'\t13,613\n",
    " 'Home Suicide'\t45,415\n"
   ]
  },
  {
   "cell_type": "code",
   "execution_count": 37,
   "metadata": {
    "collapsed": false
   },
   "outputs": [
    {
     "data": {
      "text/plain": [
       "{'1 Accidental': 492,\n",
       " '1 Homicide': 11839,\n",
       " '1 Suicide': 9292,\n",
       " '1 Undetermined': 200,\n",
       " '2 Accidental': 633,\n",
       " '2 Homicide': 15649,\n",
       " '2 Suicide': 26321,\n",
       " '2 Undetermined': 324,\n",
       " '3 Accidental': 327,\n",
       " '3 Homicide': 5640,\n",
       " '3 Suicide': 15533,\n",
       " '3 Undetermined': 180,\n",
       " '4 Accidental': 146,\n",
       " '4 Homicide': 1559,\n",
       " '4 NA': 1,\n",
       " '4 Suicide': 11147,\n",
       " '4 Undetermined': 93,\n",
       " '5 Accidental': 28,\n",
       " '5 Homicide': 455,\n",
       " '5 Suicide': 876,\n",
       " '5 Undetermined': 10,\n",
       " 'NA Accidental': 13,\n",
       " 'NA Homicide': 34,\n",
       " 'NA Suicide': 6}"
      ]
     },
     "execution_count": 37,
     "metadata": {},
     "output_type": "execute_result"
    }
   ],
   "source": [
    "education = {\n",
    "    1 : \"Less than High School\",\n",
    "    2 : \"Graduated from High School or equivalent\",\n",
    "    3 : \"Some College\",\n",
    "    4 : \"At least graduated from College\",\n",
    "    5 : \"Not available\"   \n",
    "          }\n",
    "\n",
    "education_list = [row[10] for row in guns_data]\n",
    "\n",
    "education_counts = {}\n",
    "for i, education in enumerate(education_list):\n",
    "    if education+\" \"+intents[i] in education_counts:\n",
    "        education_counts[education+\" \"+intents[i] ] += 1\n",
    "    else:\n",
    "        education_counts[education+\" \"+intents[i] ] = 1\n",
    "        \n",
    "education_counts"
   ]
  },
  {
   "cell_type": "markdown",
   "metadata": {},
   "source": [
    "  '3 Suicide'\t15533\n",
    "  '2 Homicide'\t15649\n",
    "  '2 Suicide'\t26321\n",
    "The highest mumbers of gun related deaths are among those who \"Graduated from High School or equivalent\" by suicides or bt Homicide. - THis is followed closedly by suicides among those who have some college education."
   ]
  },
  {
   "cell_type": "code",
   "execution_count": 62,
   "metadata": {
    "collapsed": false
   },
   "outputs": [
    {
     "data": {
      "text/plain": [
       "{'At least graduated from College Accidental': 146,\n",
       " 'At least graduated from College Homicide': 1559,\n",
       " 'At least graduated from College NA': 1,\n",
       " 'At least graduated from College Suicide': 11147,\n",
       " 'At least graduated from College Undetermined': 93,\n",
       " 'Graduated from High School or equivalent Accidental': 633,\n",
       " 'Graduated from High School or equivalent Homicide': 15649,\n",
       " 'Graduated from High School or equivalent Suicide': 26321,\n",
       " 'Graduated from High School or equivalent Undetermined': 324,\n",
       " 'Less than High School Accidental': 492,\n",
       " 'Less than High School Homicide': 11839,\n",
       " 'Less than High School Suicide': 9292,\n",
       " 'Less than High School Undetermined': 200,\n",
       " 'Not available Accidental': 41,\n",
       " 'Not available Homicide': 489,\n",
       " 'Not available Suicide': 882,\n",
       " 'Not available Undetermined': 10,\n",
       " 'Some College Accidental': 327,\n",
       " 'Some College Homicide': 5640,\n",
       " 'Some College Suicide': 15533,\n",
       " 'Some College Undetermined': 180}"
      ]
     },
     "execution_count": 62,
     "metadata": {},
     "output_type": "execute_result"
    }
   ],
   "source": [
    "education_def = {\n",
    "    1 : \"Less than High School\",\n",
    "    2 : \"Graduated from High School or equivalent\",\n",
    "    3 : \"Some College\",\n",
    "    4 : \"At least graduated from College\",\n",
    "    5 : \"Not available\"   \n",
    "          }\n",
    "\n",
    "education_list = [row[10] for row in guns_data]\n",
    "\n",
    "education_counts = {}\n",
    "for i, education in enumerate(education_list):\n",
    "    if education ==\"NA\":\n",
    "        ed_index=5\n",
    "    else:\n",
    "        ed_index=int(education)\n",
    "    education_val=(education_def[ed_index])\n",
    "    if education_val+\" \"+intents[i] in education_counts:\n",
    "        education_counts[education_val+\" \"+intents[i] ] += 1\n",
    "    else:\n",
    "        education_counts[education_val+\" \"+intents[i] ] = 1\n",
    "education_counts"
   ]
  },
  {
   "cell_type": "code",
   "execution_count": 72,
   "metadata": {
    "collapsed": false
   },
   "outputs": [
    {
     "data": {
      "text/plain": [
       "[('Graduated from High School or equivalent Suicide', 26321),\n",
       " ('Graduated from High School or equivalent Homicide', 15649),\n",
       " ('Some College Suicide', 15533),\n",
       " ('Less than High School Homicide', 11839),\n",
       " ('At least graduated from College Suicide', 11147),\n",
       " ('Less than High School Suicide', 9292),\n",
       " ('Some College Homicide', 5640),\n",
       " ('At least graduated from College Homicide', 1559),\n",
       " ('Not available Suicide', 882),\n",
       " ('Graduated from High School or equivalent Accidental', 633),\n",
       " ('Less than High School Accidental', 492),\n",
       " ('Not available Homicide', 489),\n",
       " ('Some College Accidental', 327),\n",
       " ('Graduated from High School or equivalent Undetermined', 324),\n",
       " ('Less than High School Undetermined', 200),\n",
       " ('Some College Undetermined', 180),\n",
       " ('At least graduated from College Accidental', 146),\n",
       " ('At least graduated from College Undetermined', 93),\n",
       " ('Not available Accidental', 41),\n",
       " ('Not available Undetermined', 10),\n",
       " ('At least graduated from College NA', 1)]"
      ]
     },
     "execution_count": 72,
     "metadata": {},
     "output_type": "execute_result"
    }
   ],
   "source": [
    "import operator\n",
    "sorted_education_counts = sorted(education_counts.items(), key=operator.itemgetter(1), reverse=True)    \n",
    "sorted_education_counts"
   ]
  },
  {
   "cell_type": "markdown",
   "metadata": {},
   "source": [
    " 'Graduated from High School or equivalent Suicide', 26321)\n",
    " \n",
    " 'Graduated from High School or equivalent Homicide', 15649)\n",
    " \n",
    " 'Some College Suicide', 15533),"
   ]
  }
 ],
 "metadata": {
  "kernelspec": {
   "display_name": "Python 3",
   "language": "python",
   "name": "python3"
  },
  "language_info": {
   "codemirror_mode": {
    "name": "ipython",
    "version": 3
   },
   "file_extension": ".py",
   "mimetype": "text/x-python",
   "name": "python",
   "nbconvert_exporter": "python",
   "pygments_lexer": "ipython3",
   "version": "3.4.3"
  }
 },
 "nbformat": 4,
 "nbformat_minor": 0
}
