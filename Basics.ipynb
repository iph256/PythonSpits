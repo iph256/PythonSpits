{
 "cells": [
  {
   "cell_type": "code",
   "execution_count": 9,
   "metadata": {
    "collapsed": false
   },
   "outputs": [
    {
     "name": "stdout",
     "output_type": "stream",
     "text": [
      "{'2': 2, '1': 3, '4': 2, '3': 2, '7': 3, '5': 2, '6': 3}\n"
     ]
    }
   ],
   "source": [
    "f=open(\"births.csv\", 'r')\n",
    "text=f.read()\n",
    "text2=text.split(\"\\n\")\n",
    "day_counts={}\n",
    "for row in text2[1:len(row)]:\n",
    "    split_row=row.split(\",\")\n",
    "    if split_row[3] in day_counts:\n",
    "        day_counts[split_row[3]]=day_counts[split_row[3]]+1\n",
    "    else:\n",
    "        day_counts[split_row[3]]=1\n",
    "print(day_counts)      "
   ]
  },
  {
   "cell_type": "markdown",
   "metadata": {},
   "source": [
    "markdown\n"
   ]
  },
  {
   "cell_type": "code",
   "execution_count": 3,
   "metadata": {
    "collapsed": true
   },
   "outputs": [],
   "source": []
  },
  {
   "cell_type": "code",
   "execution_count": null,
   "metadata": {
    "collapsed": true
   },
   "outputs": [],
   "source": []
  }
 ],
 "metadata": {
  "anaconda-cloud": {},
  "kernelspec": {
   "display_name": "Python 3",
   "language": "python",
   "name": "python3"
  },
  "language_info": {
   "codemirror_mode": {
    "name": "ipython",
    "version": 3
   },
   "file_extension": ".py",
   "mimetype": "text/x-python",
   "name": "python",
   "nbconvert_exporter": "python",
   "pygments_lexer": "ipython3",
   "version": "3.4.3"
  }
 },
 "nbformat": 4,
 "nbformat_minor": 1
}
